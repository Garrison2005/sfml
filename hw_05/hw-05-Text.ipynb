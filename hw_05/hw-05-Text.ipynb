{
 "cells": [
  {
   "cell_type": "markdown",
   "metadata": {},
   "source": [
    "Сначала загрузим все, что нужно и подготовим выборки для обучения моделей."
   ]
  },
  {
   "cell_type": "code",
   "execution_count": 1,
   "metadata": {},
   "outputs": [
    {
     "name": "stderr",
     "output_type": "stream",
     "text": [
      "C:\\ProgramData\\Anaconda3\\lib\\site-packages\\sklearn\\cross_validation.py:41: DeprecationWarning: This module was deprecated in version 0.18 in favor of the model_selection module into which all the refactored classes and functions are moved. Also note that the interface of the new CV iterators are different from that of this module. This module will be removed in 0.20.\n",
      "  \"This module will be removed in 0.20.\", DeprecationWarning)\n"
     ]
    }
   ],
   "source": [
    "import pandas as pd\n",
    "from bs4 import BeautifulSoup\n",
    "from sklearn.feature_extraction.text import CountVectorizer\n",
    "from sklearn.linear_model import LogisticRegression\n",
    "from sklearn.tree import DecisionTreeClassifier\n",
    "from sklearn.ensemble import RandomForestClassifier\n",
    "from sklearn.cross_validation import train_test_split\n",
    "from sklearn.cross_validation import cross_val_score\n",
    "from sklearn.metrics import roc_auc_score\n",
    "from sklearn.ensemble import GradientBoostingRegressor\n",
    "from sklearn.ensemble import GradientBoostingClassifier\n",
    "from vecstack import stacking\n",
    "from sklearn.neighbors import KNeighborsClassifier\n",
    "from sklearn.naive_bayes import GaussianNB\n",
    "import matplotlib.pyplot as plt\n",
    "%matplotlib inline\n",
    "lr = LogisticRegression(random_state=42)\n",
    "dtc = DecisionTreeClassifier(random_state=42)\n",
    "rfc = RandomForestClassifier(random_state=42,n_jobs=-1)\n",
    "cv = CountVectorizer()\n",
    "train = pd.read_csv('data/train.csv',sep='\\t')\n",
    "train['text'] = train['name']+' '+train['description']\n",
    "texts_without_tags = []\n",
    "for t in train['text']:\n",
    "    texts_without_tags.append(\n",
    "        BeautifulSoup(t, 'lxml').text\n",
    "    )\n",
    "m = cv.fit_transform(texts_without_tags)\n",
    "test_size=0.3\n",
    "X_train, X_test, y_train, y_test = train_test_split(m, train['target'], test_size=0.3, random_state=42)"
   ]
  },
  {
   "cell_type": "code",
   "execution_count": 2,
   "metadata": {},
   "outputs": [
    {
     "name": "stdout",
     "output_type": "stream",
     "text": [
      "X_train:  (140000, 208984)\n",
      "X_test:  (60000, 208984)\n",
      "y_train:  (140000,)\n",
      "y_test:  (60000,)\n"
     ]
    }
   ],
   "source": [
    "print('X_train: ',X_train.shape)\n",
    "print('X_test: ',X_test.shape)\n",
    "print('y_train: ',y_train.shape)\n",
    "print('y_test: ',y_test.shape)"
   ]
  },
  {
   "cell_type": "markdown",
   "metadata": {},
   "source": [
    "Теперь подготовим данные для предсказания:"
   ]
  },
  {
   "cell_type": "code",
   "execution_count": 3,
   "metadata": {
    "collapsed": true
   },
   "outputs": [],
   "source": [
    "test = pd.read_csv('data/test.csv',sep='\\t')\n",
    "test['text'] = test['name']+' '+test['description']\n",
    "texts_without_tags_1 = []\n",
    "for t in test['text']:\n",
    "    texts_without_tags_1.append(\n",
    "        BeautifulSoup(t, 'lxml').text\n",
    "    )\n",
    "X = cv.transform(texts_without_tags_1)"
   ]
  },
  {
   "cell_type": "code",
   "execution_count": 4,
   "metadata": {
    "collapsed": true
   },
   "outputs": [],
   "source": [
    "models = [\n",
    "    RandomForestClassifier(n_estimators=500, max_depth=5, random_state=123,),\n",
    "    RandomForestClassifier(n_estimators=500, max_depth=10, random_state=123, max_features='log2'),\n",
    "    LogisticRegression(random_state=42,penalty='l2',C = 0.1),\n",
    "    DecisionTreeClassifier(random_state=42),   \n",
    "    GradientBoostingClassifier(n_estimators=300, max_depth=3,learning_rate=0.02,random_state=123),\n",
    "    ]"
   ]
  },
  {
   "cell_type": "code",
   "execution_count": 5,
   "metadata": {
    "collapsed": true
   },
   "outputs": [],
   "source": [
    "def roc_auc_score_cust(y_true, y_hat):\n",
    "    return roc_auc_score(y_true, y_hat[:,1])"
   ]
  },
  {
   "cell_type": "code",
   "execution_count": 7,
   "metadata": {},
   "outputs": [
    {
     "name": "stdout",
     "output_type": "stream",
     "text": [
      "task:       [classification]\n",
      "n_classes:  [2]\n",
      "metric:     [roc_auc_score_cust]\n",
      "mode:       [oof_pred_bag]\n",
      "n_models:   [5]\n",
      "\n",
      "model 0:    [RandomForestClassifier]\n",
      "    fold 0: [0.96782805]\n",
      "    fold 1: [0.96589542]\n",
      "    fold 2: [0.96960600]\n",
      "    fold 3: [0.96598574]\n",
      "    fold 4: [0.97037849]\n",
      "    ----\n",
      "    MEAN:   [0.96793874] + [0.00182941]\n",
      "    FULL:   [0.96780683]\n",
      "\n",
      "model 1:    [RandomForestClassifier]\n",
      "    fold 0: [0.96104957]\n",
      "    fold 1: [0.95962370]\n",
      "    fold 2: [0.96547977]\n",
      "    fold 3: [0.95615592]\n",
      "    fold 4: [0.96337086]\n",
      "    ----\n",
      "    MEAN:   [0.96113596] + [0.00319245]\n",
      "    FULL:   [0.96093471]\n",
      "\n",
      "model 2:    [LogisticRegression]\n",
      "    fold 0: [0.99082913]\n",
      "    fold 1: [0.99042751]\n",
      "    fold 2: [0.99147016]\n",
      "    fold 3: [0.99091176]\n",
      "    fold 4: [0.99124611]\n",
      "    ----\n",
      "    MEAN:   [0.99097693] + [0.00035880]\n",
      "    FULL:   [0.99097706]\n",
      "\n",
      "model 3:    [DecisionTreeClassifier]\n",
      "    fold 0: [0.94699026]\n",
      "    fold 1: [0.94768906]\n",
      "    fold 2: [0.94808755]\n",
      "    fold 3: [0.94778695]\n",
      "    fold 4: [0.94788110]\n",
      "    ----\n",
      "    MEAN:   [0.94768698] + [0.00037244]\n",
      "    FULL:   [0.94768684]\n",
      "\n",
      "model 4:    [GradientBoostingClassifier]\n",
      "    fold 0: [0.97505522]\n",
      "    fold 1: [0.97617269]\n",
      "    fold 2: [0.97726374]\n",
      "    fold 3: [0.97593657]\n",
      "    fold 4: [0.97635144]\n",
      "    ----\n",
      "    MEAN:   [0.97615593] + [0.00071069]\n",
      "    FULL:   [0.97612978]\n",
      "\n"
     ]
    }
   ],
   "source": [
    "S_train, S_valid = stacking(models,\n",
    "                              # X_train, y_train, X_test,\n",
    "                               m,train['target'],X,\n",
    "                               regression=False,\n",
    "                               mode='oof_pred_bag', \n",
    "                               needs_proba=True,\n",
    "                               metric=roc_auc_score_cust,\n",
    "                               n_folds=5,                \n",
    "                               stratified=True,          \n",
    "                               shuffle=True,             \n",
    "                               random_state=123,         \n",
    "                               verbose=2) \n",
    "last_model = GradientBoostingClassifier(n_estimators=300, max_depth=3,\n",
    "                                       learning_rate=0.01, \n",
    "                                       random_state=123)\n",
    "#last_model.fit(S_train, y_train)\n",
    "last_model.fit(S_train, train['target'])\n",
    "y_hat = last_model.predict_proba(S_valid)\n",
    "#roc_auc_score(y_test, y_hat[:, 1])"
   ]
  },
  {
   "cell_type": "code",
   "execution_count": 8,
   "metadata": {},
   "outputs": [
    {
     "name": "stderr",
     "output_type": "stream",
     "text": [
      "C:\\ProgramData\\Anaconda3\\lib\\site-packages\\ipykernel_launcher.py:3: SettingWithCopyWarning: \n",
      "A value is trying to be set on a copy of a slice from a DataFrame.\n",
      "Try using .loc[row_indexer,col_indexer] = value instead\n",
      "\n",
      "See the caveats in the documentation: http://pandas.pydata.org/pandas-docs/stable/indexing.html#indexing-view-versus-copy\n",
      "  This is separate from the ipykernel package so we can avoid doing imports until\n"
     ]
    }
   ],
   "source": [
    "submission = test[['id','description']]\n",
    "#submission['target'] = fin_predict  \n",
    "submission['target'] = y_hat[:,0:1]\n",
    "submission = submission.drop('description', 1)"
   ]
  },
  {
   "cell_type": "code",
   "execution_count": 9,
   "metadata": {
    "collapsed": true
   },
   "outputs": [],
   "source": [
    "submission.to_csv(\"submission.csv\",index=False)"
   ]
  },
  {
   "cell_type": "code",
   "execution_count": 10,
   "metadata": {},
   "outputs": [
    {
     "data": {
      "text/html": [
       "<div>\n",
       "<style>\n",
       "    .dataframe thead tr:only-child th {\n",
       "        text-align: right;\n",
       "    }\n",
       "\n",
       "    .dataframe thead th {\n",
       "        text-align: left;\n",
       "    }\n",
       "\n",
       "    .dataframe tbody tr th {\n",
       "        vertical-align: top;\n",
       "    }\n",
       "</style>\n",
       "<table border=\"1\" class=\"dataframe\">\n",
       "  <thead>\n",
       "    <tr style=\"text-align: right;\">\n",
       "      <th></th>\n",
       "      <th>id,target</th>\n",
       "    </tr>\n",
       "  </thead>\n",
       "  <tbody>\n",
       "    <tr>\n",
       "      <th>0</th>\n",
       "      <td>200000,0.06439992486085622</td>\n",
       "    </tr>\n",
       "    <tr>\n",
       "      <th>1</th>\n",
       "      <td>200001,0.03536019361127396</td>\n",
       "    </tr>\n",
       "    <tr>\n",
       "      <th>2</th>\n",
       "      <td>200002,0.03536019361127396</td>\n",
       "    </tr>\n",
       "    <tr>\n",
       "      <th>3</th>\n",
       "      <td>200003,0.03536019361127396</td>\n",
       "    </tr>\n",
       "    <tr>\n",
       "      <th>4</th>\n",
       "      <td>200004,0.9717401779036875</td>\n",
       "    </tr>\n",
       "  </tbody>\n",
       "</table>\n",
       "</div>"
      ],
      "text/plain": [
       "                    id,target\n",
       "0  200000,0.06439992486085622\n",
       "1  200001,0.03536019361127396\n",
       "2  200002,0.03536019361127396\n",
       "3  200003,0.03536019361127396\n",
       "4   200004,0.9717401779036875"
      ]
     },
     "execution_count": 10,
     "metadata": {},
     "output_type": "execute_result"
    }
   ],
   "source": [
    "zz = pd.read_csv('submission.csv',sep=';')\n",
    "zz.head()"
   ]
  },
  {
   "cell_type": "code",
   "execution_count": null,
   "metadata": {
    "collapsed": true
   },
   "outputs": [],
   "source": []
  },
  {
   "cell_type": "code",
   "execution_count": null,
   "metadata": {
    "collapsed": true
   },
   "outputs": [],
   "source": []
  },
  {
   "cell_type": "code",
   "execution_count": null,
   "metadata": {
    "collapsed": true
   },
   "outputs": [],
   "source": []
  },
  {
   "cell_type": "code",
   "execution_count": null,
   "metadata": {
    "collapsed": true
   },
   "outputs": [],
   "source": []
  },
  {
   "cell_type": "code",
   "execution_count": null,
   "metadata": {
    "collapsed": true
   },
   "outputs": [],
   "source": []
  }
 ],
 "metadata": {
  "kernelspec": {
   "display_name": "Python 3",
   "language": "python",
   "name": "python3"
  },
  "language_info": {
   "codemirror_mode": {
    "name": "ipython",
    "version": 3
   },
   "file_extension": ".py",
   "mimetype": "text/x-python",
   "name": "python",
   "nbconvert_exporter": "python",
   "pygments_lexer": "ipython3",
   "version": "3.6.2"
  }
 },
 "nbformat": 4,
 "nbformat_minor": 2
}
